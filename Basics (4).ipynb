{
 "cells": [
  {
   "cell_type": "markdown",
   "metadata": {},
   "source": [
    "## Estimate the chance of winning the 6/49 lottery ##\n",
    "\n",
    "A medical institute wants to provide a mobile app for lottery addicts to help estimate their chances of winning the lottery. Using the past data of 3,665 drawings from 1982 - 2018, we will build an app that would answer the following questions:\n",
    "- What is the probability of winning the big prize with a single ticket?\n",
    "- What is the probability of winning the big prize if we play 40 different tickets (or any other number)?\n",
    "- What is the probability of having at least five (or four, or three, or two) winning numbers on a single ticket?"
   ]
  },
  {
   "cell_type": "code",
   "execution_count": 1,
   "metadata": {
    "collapsed": false
   },
   "outputs": [
    {
     "name": "stdout",
     "output_type": "stream",
     "text": [
      "Enter number:2\n",
      "Enter number:3\n",
      "Enter number:12\n",
      "Enter number:13\n",
      "Enter number:45\n",
      "Enter number:35\n",
      "The possibility of winning the lottery is 7.151123842018516e-06 %\n"
     ]
    }
   ],
   "source": [
    "import pandas as pd\n",
    "import numpy as np\n",
    "\n",
    "def factorial(n):\n",
    "    facn = 1\n",
    "    for i in range(0,n):\n",
    "        facn *= (n-i)\n",
    "    return facn\n",
    "\n",
    "def combinations(n,k):\n",
    "    facn = factorial(n)\n",
    "    facnk = factorial(n-k)\n",
    "    fack = factorial(k)\n",
    "    d= fack*facnk\n",
    "    return (facn/d)\n",
    "\n",
    "def one_ticket_probability(l):\n",
    "    outcomes = combinations(49,6)\n",
    "    successful = 1\n",
    "    prob = successful/outcomes\n",
    "    print(\"The possibility of winning the lottery is {0} %\".format(prob*100))\n",
    "\n",
    "lottery =[]\n",
    "\n",
    "for i in range(0,6):\n",
    "    ele = int(input('Enter number:'))\n",
    "    lottery.append(ele)\n",
    "\n",
    "one_ticket_probability(lottery)"
   ]
  },
  {
   "cell_type": "markdown",
   "metadata": {},
   "source": [
    "## Getting probability ##\n",
    "\n",
    "In the lotto 6/49 system, user draws 6 numbers between 0-49. When the numbers are drawn to determine the winners, it is not put back in so it is *sampled without replacement*. So when we calculate the total combinations, we use the formula for sampling without replacement.\n",
    ">To get the probablity of winning the lottery, we divide the no: of successful outcomes with total outcomes (total combinations). Since a user picks one combination of numbers, the number of successful outcomes is 1."
   ]
  },
  {
   "cell_type": "markdown",
   "metadata": {},
   "source": [
    "## Comparing Against Historical Lotto data ##"
   ]
  },
  {
   "cell_type": "markdown",
   "metadata": {},
   "source": [
    "### Step 1: Reading dataset into pandas dataframe ###"
   ]
  },
  {
   "cell_type": "code",
   "execution_count": 2,
   "metadata": {
    "collapsed": false
   },
   "outputs": [
    {
     "data": {
      "text/plain": [
       "(3665, 11)"
      ]
     },
     "execution_count": 2,
     "metadata": {},
     "output_type": "execute_result"
    }
   ],
   "source": [
    "lotto = pd.read_csv('649.csv')\n",
    "lotto.shape"
   ]
  },
  {
   "cell_type": "code",
   "execution_count": 3,
   "metadata": {
    "collapsed": false
   },
   "outputs": [
    {
     "data": {
      "text/html": [
       "<div>\n",
       "<style scoped>\n",
       "    .dataframe tbody tr th:only-of-type {\n",
       "        vertical-align: middle;\n",
       "    }\n",
       "\n",
       "    .dataframe tbody tr th {\n",
       "        vertical-align: top;\n",
       "    }\n",
       "\n",
       "    .dataframe thead th {\n",
       "        text-align: right;\n",
       "    }\n",
       "</style>\n",
       "<table border=\"1\" class=\"dataframe\">\n",
       "  <thead>\n",
       "    <tr style=\"text-align: right;\">\n",
       "      <th></th>\n",
       "      <th>PRODUCT</th>\n",
       "      <th>DRAW NUMBER</th>\n",
       "      <th>SEQUENCE NUMBER</th>\n",
       "      <th>DRAW DATE</th>\n",
       "      <th>NUMBER DRAWN 1</th>\n",
       "      <th>NUMBER DRAWN 2</th>\n",
       "      <th>NUMBER DRAWN 3</th>\n",
       "      <th>NUMBER DRAWN 4</th>\n",
       "      <th>NUMBER DRAWN 5</th>\n",
       "      <th>NUMBER DRAWN 6</th>\n",
       "      <th>BONUS NUMBER</th>\n",
       "    </tr>\n",
       "  </thead>\n",
       "  <tbody>\n",
       "    <tr>\n",
       "      <th>0</th>\n",
       "      <td>649</td>\n",
       "      <td>1</td>\n",
       "      <td>0</td>\n",
       "      <td>6/12/1982</td>\n",
       "      <td>3</td>\n",
       "      <td>11</td>\n",
       "      <td>12</td>\n",
       "      <td>14</td>\n",
       "      <td>41</td>\n",
       "      <td>43</td>\n",
       "      <td>13</td>\n",
       "    </tr>\n",
       "    <tr>\n",
       "      <th>1</th>\n",
       "      <td>649</td>\n",
       "      <td>2</td>\n",
       "      <td>0</td>\n",
       "      <td>6/19/1982</td>\n",
       "      <td>8</td>\n",
       "      <td>33</td>\n",
       "      <td>36</td>\n",
       "      <td>37</td>\n",
       "      <td>39</td>\n",
       "      <td>41</td>\n",
       "      <td>9</td>\n",
       "    </tr>\n",
       "    <tr>\n",
       "      <th>2</th>\n",
       "      <td>649</td>\n",
       "      <td>3</td>\n",
       "      <td>0</td>\n",
       "      <td>6/26/1982</td>\n",
       "      <td>1</td>\n",
       "      <td>6</td>\n",
       "      <td>23</td>\n",
       "      <td>24</td>\n",
       "      <td>27</td>\n",
       "      <td>39</td>\n",
       "      <td>34</td>\n",
       "    </tr>\n",
       "    <tr>\n",
       "      <th>3</th>\n",
       "      <td>649</td>\n",
       "      <td>4</td>\n",
       "      <td>0</td>\n",
       "      <td>7/3/1982</td>\n",
       "      <td>3</td>\n",
       "      <td>9</td>\n",
       "      <td>10</td>\n",
       "      <td>13</td>\n",
       "      <td>20</td>\n",
       "      <td>43</td>\n",
       "      <td>34</td>\n",
       "    </tr>\n",
       "    <tr>\n",
       "      <th>4</th>\n",
       "      <td>649</td>\n",
       "      <td>5</td>\n",
       "      <td>0</td>\n",
       "      <td>7/10/1982</td>\n",
       "      <td>5</td>\n",
       "      <td>14</td>\n",
       "      <td>21</td>\n",
       "      <td>31</td>\n",
       "      <td>34</td>\n",
       "      <td>47</td>\n",
       "      <td>45</td>\n",
       "    </tr>\n",
       "  </tbody>\n",
       "</table>\n",
       "</div>"
      ],
      "text/plain": [
       "   PRODUCT  DRAW NUMBER  SEQUENCE NUMBER  DRAW DATE  NUMBER DRAWN 1  \\\n",
       "0      649            1                0  6/12/1982               3   \n",
       "1      649            2                0  6/19/1982               8   \n",
       "2      649            3                0  6/26/1982               1   \n",
       "3      649            4                0   7/3/1982               3   \n",
       "4      649            5                0  7/10/1982               5   \n",
       "\n",
       "   NUMBER DRAWN 2  NUMBER DRAWN 3  NUMBER DRAWN 4  NUMBER DRAWN 5  \\\n",
       "0              11              12              14              41   \n",
       "1              33              36              37              39   \n",
       "2               6              23              24              27   \n",
       "3               9              10              13              20   \n",
       "4              14              21              31              34   \n",
       "\n",
       "   NUMBER DRAWN 6  BONUS NUMBER  \n",
       "0              43            13  \n",
       "1              41             9  \n",
       "2              39            34  \n",
       "3              43            34  \n",
       "4              47            45  "
      ]
     },
     "execution_count": 3,
     "metadata": {},
     "output_type": "execute_result"
    }
   ],
   "source": [
    "lotto.head(5)"
   ]
  },
  {
   "cell_type": "markdown",
   "metadata": {},
   "source": [
    "### Step 2: Extracting drawings as a pandas dataset ###\n",
    "\n",
    "** CHECKING PROBABILITY OF A SINGLE TICKET: **\n",
    "\n",
    "In function extract_numbers(), we extract columns \"Number Drawn ..\" into a separate pandas dataset.\n",
    "Then we check the value of input against historical occurences in chech_historical_occurence()"
   ]
  },
  {
   "cell_type": "code",
   "execution_count": 4,
   "metadata": {
    "collapsed": false
   },
   "outputs": [],
   "source": [
    "def extract_numbers(row):\n",
    "    return set(row)\n",
    "\n",
    "lotto6 = lotto[['NUMBER DRAWN 1', 'NUMBER DRAWN 2', 'NUMBER DRAWN 3', 'NUMBER DRAWN 4'\n",
    ",'NUMBER DRAWN 5', 'NUMBER DRAWN 6']]\n",
    "winning_sets = lotto6.apply(extract_numbers, axis =1)\n",
    "\n",
    "    "
   ]
  },
  {
   "cell_type": "code",
   "execution_count": 5,
   "metadata": {
    "collapsed": false
   },
   "outputs": [
    {
     "name": "stdout",
     "output_type": "stream",
     "text": [
      "Your combination has occured 0 time(s) in the Canadian lotto history. The chances of you winning the lottery is 1 in 13,983,816\n"
     ]
    }
   ],
   "source": [
    "def check_historical_occurence(li, sets):\n",
    "    li = set(li)\n",
    "    return (sets==li)\n",
    "match = check_historical_occurence(lottery,winning_sets)\n",
    "\n",
    "print('Your combination has occured {} time(s) in the Canadian lotto history. The chances of you winning the lottery is 1 in 13,983,816'.format(sum(match)))\n"
   ]
  },
  {
   "cell_type": "markdown",
   "metadata": {},
   "source": [
    "** CHECKING PROBABILITY OF MULTIPLE TICKETS: **\n",
    "\n",
    "Since most lottery addcits buy multiple tickets, we check the probability of of multiple tickets winning the lottery. Here successful outcomes depends on the number of tickets bought by the customer, and total outcomes can be calculated by calling the combinations functions.\n",
    "\n",
    "Remember 6 tickets are drawn and the total numbers picked is upto 49."
   ]
  },
  {
   "cell_type": "code",
   "execution_count": 6,
   "metadata": {
    "collapsed": false
   },
   "outputs": [
    {
     "name": "stdout",
     "output_type": "stream",
     "text": [
      "The probability of winning the lottery with your tickets is 7.151123842018516e-06% OR 1 in 13983816 chances\n",
      "--------------------------------------------------------------\n",
      "The probability of winning the lottery with your tickets is 7.151123842018517e-05% OR 1 in 1398381 chances\n",
      "--------------------------------------------------------------\n",
      "The probability of winning the lottery with your tickets is 0.0007151123842018516% OR 1 in 139838 chances\n",
      "--------------------------------------------------------------\n",
      "The probability of winning the lottery with your tickets is 0.07151123842018516% OR 1 in 1398 chances\n",
      "--------------------------------------------------------------\n",
      "The probability of winning the lottery with your tickets is 7.151123842018517% OR 1 in 13 chances\n",
      "--------------------------------------------------------------\n",
      "The probability of winning the lottery with your tickets is 50.0% OR 1 in 2 chances\n",
      "--------------------------------------------------------------\n",
      "The probability of winning the lottery with your tickets is 100.0% OR 1 in 1 chances\n",
      "--------------------------------------------------------------\n"
     ]
    }
   ],
   "source": [
    "def multi_ticket_probability(n_tickets):\n",
    "    t_o = combinations(49,6)\n",
    "    s_o = n_tickets\n",
    "    probability = s_o/t_o\n",
    "    print(\"The probability of winning the lottery with your tickets is {}% OR 1 in {} chances\".format(probability*100, int(t_o/s_o)))\n",
    "    print('--------------------------------------------------------------')\n",
    "\n",
    "test = [1, 10, 100, 10000, 1000000, 6991908, 13983816]\n",
    "for val in test:\n",
    "    multi_ticket_probability(val)\n"
   ]
  },
  {
   "cell_type": "markdown",
   "metadata": {
    "collapsed": true
   },
   "source": [
    "** CALCULATING THE PROBABILITY OF WINNING 2, 3, 4 or 5 numbers **"
   ]
  },
  {
   "cell_type": "markdown",
   "metadata": {},
   "source": [
    "In order to calculate the probability of winning less than 6 numbers, we need to calculate how many combinations of 4 numbers can we make out of a a sample with 6 numbers, and the total combination of the remaining numbers i.e, 43. <br>\n",
    "\n",
    "We arrive at 43 as the remaining number because we are counting combinations for sampling without replacement as we are not interested in outcomes for winning *at least* less than 6 numbers; We want to know the possibility of winning exactly a certain number of lotto numbers. Therefore, we leave out the 6 numbers that make up the lotto combination of the ticket arriving at **43**. <br>\n",
    "\n",
    "Then we calculate the different remaining combinations of lotto numbers we can make with the winning numbers and (6-winning numbers) from 43 numbers."
   ]
  },
  {
   "cell_type": "code",
   "execution_count": 40,
   "metadata": {
    "collapsed": false
   },
   "outputs": [],
   "source": [
    "def probability_less_6(no):\n",
    "    success_outcomes = combinations(43, 6-no) * combinations(6,no)\n",
    "    total_o = combinations(49,6)\n",
    "    p = (success_outcomes/total_o) *100\n",
    "    print(\"The probability of winning {} numbers is {}% OR 1 in {} chances\".format(no, round(p,4),round(total_o/success_outcomes)))\n",
    "    print('---------------------------------------------')"
   ]
  },
  {
   "cell_type": "code",
   "execution_count": 41,
   "metadata": {
    "collapsed": false
   },
   "outputs": [
    {
     "name": "stdout",
     "output_type": "stream",
     "text": [
      "The probability of winning 2 numbers is 13.2378% OR 1 in 8 chances\n",
      "---------------------------------------------\n",
      "The probability of winning 3 numbers is 1.765% OR 1 in 57 chances\n",
      "---------------------------------------------\n",
      "The probability of winning 4 numbers is 0.0969% OR 1 in 1032 chances\n",
      "---------------------------------------------\n",
      "The probability of winning 5 numbers is 0.0018% OR 1 in 54201 chances\n",
      "---------------------------------------------\n"
     ]
    }
   ],
   "source": [
    "inp = [2,3,4,5]\n",
    "\n",
    "for i in inp:\n",
    "    probability_less_6(i)\n"
   ]
  },
  {
   "cell_type": "markdown",
   "metadata": {},
   "source": [
    "## Next steps ##\n",
    "\n",
    "**For the first version of the app, we coded four main functions:**\n",
    "\n",
    "one_ticket_probability() — calculates the probability of winning the big prize with a single ticket\n",
    "check_historical_occurrence() — checks whether a certain combination has occurred in the Canada lottery data set\n",
    "multi_ticket_probability() — calculates the probability for any number of of tickets between 1 and 13,983,816\n",
    "probability_less_6() — calculates the probability of having two, three, four or five winning numbers exactly\n",
    "Possible features for a second version of the app include:\n",
    "\n",
    "Making the outputs even easier to understand by adding fun analogies (for example, we can find probabilities for strange events and compare with the chances of winning in lottery; for instance, we can output something along the lines \"You are 100 times more likely to be the victim of a shark attack than winning the lottery\")\n",
    "Combining the one_ticket_probability() and check_historical_occurrence() to output information on probability and historical occurrence at the same time\n",
    "Create a function similar to probability_less_6() which calculates the probability of having at least two, three, four or five winning numbers. Hint: the number of successful outcomes for having at least four winning numbers is the sum of these three numbers:\n",
    "- The number of successful outcomes for having four winning numbers exactly\n",
    "- The number of successful outcomes for having five winning numbers exactly\n",
    "- The number of successful outcomes for having six winning numbers exactly"
   ]
  }
 ],
 "metadata": {
  "kernelspec": {
   "display_name": "Python 3",
   "language": "python",
   "name": "python3"
  },
  "language_info": {
   "codemirror_mode": {
    "name": "ipython",
    "version": 3
   },
   "file_extension": ".py",
   "mimetype": "text/x-python",
   "name": "python",
   "nbconvert_exporter": "python",
   "pygments_lexer": "ipython3",
   "version": "3.4.3"
  }
 },
 "nbformat": 4,
 "nbformat_minor": 2
}
